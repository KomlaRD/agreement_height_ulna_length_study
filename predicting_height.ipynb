{
 "cells": [
  {
   "cell_type": "code",
   "execution_count": 1,
   "metadata": {},
   "outputs": [],
   "source": [
    "# Import packages\n",
    "## Warnings\n",
    "import warnings\n",
    "## Prepare and explore data\n",
    "import pandas as pd # Data manipulation\n",
    "import numpy as np # Numeric computations\n",
    "import matplotlib.pyplot as plt # Data visualisation\n",
    "import seaborn as sns # Data visualisation\n",
    "\n",
    "## Machine learning packages\n",
    "from sklearn.model_selection import train_test_split, GridSearchCV # Split training and test data, Cross validation\n",
    "from sklearn.metrics import mean_absolute_error, mean_squared_error # Model evaluation\n",
    "from sklearn.linear_model import LinearRegression, Ridge, Lasso, ElasticNet #Linear models\n",
    "from sklearn.ensemble import RandomForestRegressor, GradientBoostingRegressor # Ensemble models\n",
    "from sklearn.svm import SVC # Support vector machine\n",
    "from sklearn.naive_bayes import GaussianNB # Naive Bayes\n",
    "from sklearn.tree import DecisionTreeRegressor # Decision Tree\n",
    "from xgboost import XGBRegressor # Extreme gradient boostng\n",
    "from category_encoders import OneHotEncoder, OrdinalEncoder # Categorical encoder\n",
    "from sklearn.pipeline import Pipeline, make_pipeline # Pipeline\n",
    "\n",
    "warnings.simplefilter(action=\"ignore\", category=FutureWarning)"
   ]
  },
  {
   "cell_type": "markdown",
   "metadata": {},
   "source": [
    "# Prepare Data\n",
    "## Import "
   ]
  },
  {
   "cell_type": "code",
   "execution_count": 2,
   "metadata": {},
   "outputs": [],
   "source": [
    "# Import dataset\n",
    "df = pd.read_csv(\"data/height_prediction.csv\")"
   ]
  },
  {
   "cell_type": "markdown",
   "metadata": {},
   "source": [
    "## Explore"
   ]
  },
  {
   "cell_type": "code",
   "execution_count": 3,
   "metadata": {},
   "outputs": [
    {
     "data": {
      "text/plain": [
       "(371, 4)"
      ]
     },
     "execution_count": 3,
     "metadata": {},
     "output_type": "execute_result"
    }
   ],
   "source": [
    "# Dimensions of the dataset\n",
    "df.shape"
   ]
  },
  {
   "cell_type": "code",
   "execution_count": 4,
   "metadata": {},
   "outputs": [
    {
     "name": "stdout",
     "output_type": "stream",
     "text": [
      "<class 'pandas.core.frame.DataFrame'>\n",
      "RangeIndex: 371 entries, 0 to 370\n",
      "Data columns (total 4 columns):\n",
      " #   Column       Non-Null Count  Dtype  \n",
      "---  ------       --------------  -----  \n",
      " 0   age          371 non-null    int64  \n",
      " 1   gender       371 non-null    object \n",
      " 2   mean_ulna    371 non-null    float64\n",
      " 3   mean_height  371 non-null    float64\n",
      "dtypes: float64(2), int64(1), object(1)\n",
      "memory usage: 11.7+ KB\n"
     ]
    }
   ],
   "source": [
    "# Dataset structure\n",
    "df.info()"
   ]
  },
  {
   "cell_type": "code",
   "execution_count": 5,
   "metadata": {},
   "outputs": [
    {
     "data": {
      "text/html": [
       "<div>\n",
       "<style scoped>\n",
       "    .dataframe tbody tr th:only-of-type {\n",
       "        vertical-align: middle;\n",
       "    }\n",
       "\n",
       "    .dataframe tbody tr th {\n",
       "        vertical-align: top;\n",
       "    }\n",
       "\n",
       "    .dataframe thead th {\n",
       "        text-align: right;\n",
       "    }\n",
       "</style>\n",
       "<table border=\"1\" class=\"dataframe\">\n",
       "  <thead>\n",
       "    <tr style=\"text-align: right;\">\n",
       "      <th></th>\n",
       "      <th>age</th>\n",
       "      <th>gender</th>\n",
       "      <th>mean_ulna</th>\n",
       "      <th>mean_height</th>\n",
       "    </tr>\n",
       "  </thead>\n",
       "  <tbody>\n",
       "    <tr>\n",
       "      <th>0</th>\n",
       "      <td>51</td>\n",
       "      <td>male</td>\n",
       "      <td>29.0</td>\n",
       "      <td>164.3</td>\n",
       "    </tr>\n",
       "    <tr>\n",
       "      <th>1</th>\n",
       "      <td>53</td>\n",
       "      <td>male</td>\n",
       "      <td>29.0</td>\n",
       "      <td>168.1</td>\n",
       "    </tr>\n",
       "    <tr>\n",
       "      <th>2</th>\n",
       "      <td>69</td>\n",
       "      <td>female</td>\n",
       "      <td>24.0</td>\n",
       "      <td>161.0</td>\n",
       "    </tr>\n",
       "    <tr>\n",
       "      <th>3</th>\n",
       "      <td>57</td>\n",
       "      <td>male</td>\n",
       "      <td>29.0</td>\n",
       "      <td>164.1</td>\n",
       "    </tr>\n",
       "    <tr>\n",
       "      <th>4</th>\n",
       "      <td>66</td>\n",
       "      <td>male</td>\n",
       "      <td>31.0</td>\n",
       "      <td>171.0</td>\n",
       "    </tr>\n",
       "  </tbody>\n",
       "</table>\n",
       "</div>"
      ],
      "text/plain": [
       "   age  gender  mean_ulna  mean_height\n",
       "0   51    male       29.0        164.3\n",
       "1   53    male       29.0        168.1\n",
       "2   69  female       24.0        161.0\n",
       "3   57    male       29.0        164.1\n",
       "4   66    male       31.0        171.0"
      ]
     },
     "execution_count": 5,
     "metadata": {},
     "output_type": "execute_result"
    }
   ],
   "source": [
    "# View first five rows\n",
    "df.head()"
   ]
  },
  {
   "cell_type": "markdown",
   "metadata": {},
   "source": [
    "## Split"
   ]
  },
  {
   "cell_type": "code",
   "execution_count": 6,
   "metadata": {},
   "outputs": [
    {
     "name": "stdout",
     "output_type": "stream",
     "text": [
      "(296, 3)\n",
      "(75, 3)\n",
      "(296,)\n",
      "(75,)\n"
     ]
    }
   ],
   "source": [
    "# Specify features\n",
    "features = [\"age\", \"gender\", \"mean_ulna\"]\n",
    "\n",
    "# Specify target vector\n",
    "target = \"mean_height\"\n",
    "\n",
    "# Subset features\n",
    "X = df[features]\n",
    "\n",
    "# Subset target\n",
    "y = df[target]\n",
    "\n",
    "# Split dataset into 80% training and 20% test\n",
    "X_train, X_test, y_train, y_test = train_test_split(\n",
    "    X, y, test_size=0.20, random_state=42)\n",
    "\n",
    "# Inspect split\n",
    "print(X_train.shape)\n",
    "print(X_test.shape)\n",
    "print(y_train.shape)\n",
    "print(y_test.shape)"
   ]
  },
  {
   "cell_type": "code",
   "execution_count": 7,
   "metadata": {},
   "outputs": [
    {
     "data": {
      "text/plain": [
       "192    163.0\n",
       "75     157.8\n",
       "84     152.1\n",
       "359    156.0\n",
       "16     164.0\n",
       "Name: mean_height, dtype: float64"
      ]
     },
     "execution_count": 7,
     "metadata": {},
     "output_type": "execute_result"
    }
   ],
   "source": [
    "y_train.head()"
   ]
  },
  {
   "cell_type": "markdown",
   "metadata": {},
   "source": [
    "# Build model\n",
    "## Baseline"
   ]
  },
  {
   "cell_type": "code",
   "execution_count": 8,
   "metadata": {},
   "outputs": [
    {
     "name": "stdout",
     "output_type": "stream",
     "text": [
      "Baseline mean absolute error 5.956830944119795\n",
      "Baseline mean squared error 54.23890199849341\n",
      "Baseline root mean squared error 7.3647065113617\n"
     ]
    }
   ],
   "source": [
    "# Mean of the target\n",
    "y_mean = y_train.mean()\n",
    "\n",
    "# Generate baseline predictions\n",
    "y_pred_baseline = [y_mean] * len(y_train)\n",
    "\n",
    "# Evaluate baseline predictions\n",
    "## Mean absolute error\n",
    "mae_baseline = mean_absolute_error(y_train, y_pred_baseline)\n",
    "print(\"Baseline mean absolute error\", mae_baseline)\n",
    "\n",
    "## Mean squared error\n",
    "mse_baseline = mean_squared_error(y_train, y_pred_baseline)\n",
    "print(\"Baseline mean squared error\", mse_baseline)\n",
    "\n",
    "## Root mean squared error\n",
    "rmse_baseline = np.sqrt(mean_squared_error(y_train, y_pred_baseline))\n",
    "print(\"Baseline root mean squared error\", rmse_baseline)"
   ]
  },
  {
   "cell_type": "markdown",
   "metadata": {},
   "source": [
    "## Iterate"
   ]
  },
  {
   "cell_type": "markdown",
   "metadata": {},
   "source": [
    "### Linear regression"
   ]
  },
  {
   "cell_type": "code",
   "execution_count": 9,
   "metadata": {},
   "outputs": [
    {
     "name": "stdout",
     "output_type": "stream",
     "text": [
      "Training mean absolute error (Linear) 3.3598260198110053\n",
      "Training mean squared error (Linear) 17.72220391653138\n",
      "Training root mean squared error (Linear) 4.209774805916746\n"
     ]
    }
   ],
   "source": [
    "# Build model\n",
    "lr_model = make_pipeline(\n",
    "    OneHotEncoder(),\n",
    "    LinearRegression()\n",
    ")\n",
    "\n",
    "# Fit model\n",
    "lr_model.fit(X_train, y_train)\n",
    "\n",
    "# Predict for training data\n",
    "y_pred_linear = lr_model.predict(X_train)\n",
    "\n",
    "# Evaluate baseline predictions\n",
    "# Mean absolute error\n",
    "mae_linear = mean_absolute_error(y_train, y_pred_linear)\n",
    "print(\"Training mean absolute error (Linear)\", mae_linear)\n",
    "\n",
    "# Mean squared error\n",
    "mse_linear = mean_squared_error(y_train, y_pred_linear)\n",
    "print(\"Training mean squared error (Linear)\", mse_linear)\n",
    "\n",
    "# Root mean squared error\n",
    "rmse_linear = np.sqrt(mean_squared_error(y_train, y_pred_linear))\n",
    "print(\"Training root mean squared error (Linear)\", rmse_linear)"
   ]
  },
  {
   "cell_type": "markdown",
   "metadata": {},
   "source": [
    "### Ridge regression\n"
   ]
  },
  {
   "cell_type": "code",
   "execution_count": 10,
   "metadata": {},
   "outputs": [
    {
     "name": "stdout",
     "output_type": "stream",
     "text": [
      "Training mean absolute error (Ridge) 3.360799155092066\n",
      "Training mean squared error (Ridge) 17.722732322520113\n",
      "Training root mean squared error (Ridge) 4.2098375648616315\n"
     ]
    }
   ],
   "source": [
    "# Build model\n",
    "ridge = make_pipeline(\n",
    "    OneHotEncoder(),\n",
    "    Ridge(random_state=42)\n",
    ")\n",
    "\n",
    "# Fit model\n",
    "ridge.fit(X_train, y_train)\n",
    "\n",
    "# Predict for training data\n",
    "y_pred_ridge = ridge.predict(X_train)\n",
    "\n",
    "# Evaluate baseline predictions\n",
    "# Mean absolute error\n",
    "mae_ridge = mean_absolute_error(y_train, y_pred_ridge)\n",
    "print(\"Training mean absolute error (Ridge)\", mae_ridge)\n",
    "\n",
    "# Mean squared error\n",
    "mse_ridge = mean_squared_error(y_train, y_pred_ridge)\n",
    "print(\"Training mean squared error (Ridge)\", mse_ridge)\n",
    "\n",
    "# Root mean squared error\n",
    "rmse_ridge = np.sqrt(mean_squared_error(y_train, y_pred_ridge))\n",
    "print(\"Training root mean squared error (Ridge)\", rmse_ridge)"
   ]
  },
  {
   "cell_type": "code",
   "execution_count": 17,
   "metadata": {},
   "outputs": [
    {
     "name": "stdout",
     "output_type": "stream",
     "text": [
      "Best Parameters: {'ridge__alpha': 1, 'ridge__solver': 'saga'}\n",
      "Best Score: 0.6509778110352706\n",
      "Training mean absolute error (Ridge) 3.3611494891012974\n",
      "Training mean squared error (Ridge) 17.72310069381754\n",
      "Training root mean squared error (Ridge) 4.209881315882615\n"
     ]
    }
   ],
   "source": [
    "# Grid search for Ridge regression\n",
    "ridge_parameters = {\n",
    "    'ridge__alpha': [0.1, 1, 10, 100, 1000],\n",
    "    'ridge__solver': ['auto', 'svd', 'cholesky', 'lsqr', 'sparse_cg', 'sag', 'saga']\n",
    "}\n",
    "\n",
    "ridge_cv = GridSearchCV(ridge, ridge_parameters, cv=5)\n",
    "\n",
    "# Fit model\n",
    "ridge_cv.fit(X_train, y_train)\n",
    "\n",
    "# Predict for training data\n",
    "y_pred_ridge_cv = ridge_cv.predict(X_train)\n",
    "\n",
    "# Best parameters and best score from cross validation\n",
    "print(\"Best Parameters:\", ridge_cv.best_params_)\n",
    "print(\"Best Score:\", ridge_cv.best_score_)\n",
    "\n",
    "# Evaluate baseline predictions\n",
    "# Mean absolute error\n",
    "mae_ridge_cv = mean_absolute_error(y_train, y_pred_ridge_cv)\n",
    "print(\"Training mean absolute error (Ridge)\", mae_ridge_cv)\n",
    "\n",
    "# Mean squared error\n",
    "mse_ridge_cv = mean_squared_error(y_train, y_pred_ridge_cv)\n",
    "print(\"Training mean squared error (Ridge)\", mse_ridge_cv)\n",
    "\n",
    "# Root mean squared error\n",
    "rmse_ridge_cv = np.sqrt(mean_squared_error(y_train, y_pred_ridge_cv))\n",
    "print(\"Training root mean squared error (Ridge)\", rmse_ridge_cv)"
   ]
  },
  {
   "cell_type": "markdown",
   "metadata": {},
   "source": [
    "### Lasso"
   ]
  },
  {
   "cell_type": "code",
   "execution_count": 19,
   "metadata": {},
   "outputs": [
    {
     "name": "stdout",
     "output_type": "stream",
     "text": [
      "Training mean absolute error (Lasso) 3.8676133080167543\n",
      "Training mean squared error (Lasso) 22.908404470964527\n",
      "Training root mean squared error (Lasso) 4.786272502790092\n"
     ]
    }
   ],
   "source": [
    "# Build model\n",
    "lasso = make_pipeline(\n",
    "    OneHotEncoder(),\n",
    "    Lasso(random_state=42)\n",
    ")\n",
    "\n",
    "# Fit model\n",
    "lasso.fit(X_train, y_train)\n",
    "\n",
    "# Predict for training data\n",
    "y_pred_lasso = lasso.predict(X_train)\n",
    "\n",
    "# Evaluate baseline predictions\n",
    "# Mean absolute error\n",
    "mae_lasso = mean_absolute_error(y_train, y_pred_lasso)\n",
    "print(\"Training mean absolute error (Lasso)\", mae_lasso)\n",
    "\n",
    "# Mean squared error\n",
    "mse_lasso = mean_squared_error(y_train, y_pred_lasso)\n",
    "print(\"Training mean squared error (Lasso)\", mse_lasso)\n",
    "\n",
    "# Root mean squared error\n",
    "rmse_lasso = np.sqrt(mean_squared_error(y_train, y_pred_lasso))\n",
    "print(\"Training root mean squared error (Lasso)\", rmse_lasso)"
   ]
  },
  {
   "cell_type": "code",
   "execution_count": 20,
   "metadata": {},
   "outputs": [
    {
     "name": "stdout",
     "output_type": "stream",
     "text": [
      "Best Parameters: {'lasso__alpha': 0.01}\n",
      "Best Score: 0.6508809302002576\n",
      "Training mean absolute error (Lasso) 3.3607827795791265\n",
      "Training mean squared error (Lasso) 17.72275252317157\n",
      "Training root mean squared error (Lasso) 4.2098399640807695\n"
     ]
    }
   ],
   "source": [
    "# Grid search for Lasso model\n",
    "# Grid search for Ridge regression\n",
    "lasso_parameters = {'lasso__alpha': [0.001, 0.01, 0.1, 1, 10, 100]}\n",
    "    \n",
    "lasso_cv = GridSearchCV(lasso, lasso_parameters, cv=5)\n",
    "\n",
    "# Fit model\n",
    "lasso_cv.fit(X_train, y_train)\n",
    "\n",
    "# Predict for training data\n",
    "y_pred_lasso_cv = lasso_cv.predict(X_train)\n",
    "\n",
    "# Best parameters and best score from cross validation\n",
    "print(\"Best Parameters:\", lasso_cv.best_params_)\n",
    "print(\"Best Score:\", lasso_cv.best_score_)\n",
    "\n",
    "# Evaluate baseline predictions\n",
    "# Mean absolute error\n",
    "mae_lasso_cv = mean_absolute_error(y_train, y_pred_lasso_cv)\n",
    "print(\"Training mean absolute error (Lasso)\", mae_lasso_cv)\n",
    "\n",
    "# Mean squared error\n",
    "mse_lasso_cv = mean_squared_error(y_train, y_pred_lasso_cv)\n",
    "print(\"Training mean squared error (Lasso)\", mse_lasso_cv)\n",
    "\n",
    "# Root mean squared error\n",
    "rmse_lasso_cv = np.sqrt(mean_squared_error(y_train, y_pred_lasso_cv))\n",
    "print(\"Training root mean squared error (Lasso)\", rmse_lasso_cv)"
   ]
  },
  {
   "cell_type": "markdown",
   "metadata": {},
   "source": [
    "### Elastic net"
   ]
  },
  {
   "cell_type": "code",
   "execution_count": null,
   "metadata": {},
   "outputs": [],
   "source": [
    "# Build model\n",
    "elastic = make_pipeline(\n",
    "    OneHotEncoder(),\n",
    "    ElasticNet()\n",
    ")\n",
    "\n",
    "# Fit model\n",
    "elastic.fit(X_train, y_train)\n",
    "\n",
    "# Predict for training data\n",
    "y_pred_elastic = elastic.predict(X_train)\n",
    "\n",
    "# Evaluate baseline predictions\n",
    "# Mean absolute error\n",
    "mae_elastic = mean_absolute_error(y_train, y_pred_elastic)\n",
    "print(\"Training mean absolute error (ElasticNet)\", mae_elastic)\n",
    "\n",
    "# Mean squared error\n",
    "mse_elastic = mean_squared_error(y_train, y_pred_elastic)\n",
    "print(\"Training mean squared error (ElasticNet)\", mse_elastic)\n",
    "\n",
    "# Root mean squared error\n",
    "rmse_elastic = np.sqrt(mean_squared_error(y_train, y_pred_elastic))\n",
    "print(\"Training root mean squared error (ElasticNet)\", rmse_elastic)"
   ]
  },
  {
   "cell_type": "markdown",
   "metadata": {},
   "source": [
    "### Random Forest\n"
   ]
  },
  {
   "cell_type": "code",
   "execution_count": null,
   "metadata": {},
   "outputs": [],
   "source": [
    "# Build model\n",
    "rf_model = make_pipeline(\n",
    "    OneHotEncoder(),\n",
    "    RandomForestRegressor(random_state=42)\n",
    ")\n",
    "\n",
    "# Fit model\n",
    "rf_model.fit(X_train, y_train)\n",
    "\n",
    "# Predict for training data\n",
    "y_pred_rf = rf_model.predict(X_train)\n",
    "\n",
    "# Evaluate baseline predictions\n",
    "# Mean absolute error\n",
    "mae_rf = mean_absolute_error(y_train, y_pred_rf)\n",
    "print(\"Training mean absolute error (Random Forest)\", mae_rf)\n",
    "\n",
    "# Mean squared error\n",
    "mse_rf = mean_squared_error(y_train, y_pred_rf)\n",
    "print(\"Training mean squared error (Random Forest)\", mse_rf)\n",
    "\n",
    "# Root mean squared error\n",
    "rmse_rf = np.sqrt(mean_squared_error(y_train, y_pred_rf))\n",
    "print(\"Training root mean squared error (Random Forest)\", rmse_rf)"
   ]
  },
  {
   "cell_type": "markdown",
   "metadata": {},
   "source": [
    "### Gradient Boosting"
   ]
  },
  {
   "cell_type": "code",
   "execution_count": null,
   "metadata": {},
   "outputs": [],
   "source": [
    "# Build model\n",
    "gb_model = make_pipeline(\n",
    "    OneHotEncoder(),\n",
    "    GradientBoostingRegressor(random_state=42)\n",
    ")\n",
    "\n",
    "# Fit model\n",
    "gb_model.fit(X_train, y_train)\n",
    "\n",
    "# Predict for training data\n",
    "y_pred_gb = gb_model.predict(X_train)\n",
    "\n",
    "# Evaluate baseline predictions\n",
    "# Mean absolute error\n",
    "mae_gb = mean_absolute_error(y_train, y_pred_gb)\n",
    "print(\"Training mean absolute error (Gradient Boosting)\", mae_gb)\n",
    "\n",
    "# Mean squared error\n",
    "mse_gb = mean_squared_error(y_train, y_pred_gb)\n",
    "print(\"Training mean squared error (Gradient Boosting)\", mse_gb)\n",
    "\n",
    "# Root mean squared error\n",
    "rmse_gb = np.sqrt(mean_squared_error(y_train, y_pred_gb))\n",
    "print(\"Training root mean squared error (Gradient Boosting)\", rmse_gb)"
   ]
  },
  {
   "cell_type": "markdown",
   "metadata": {},
   "source": [
    "### Extreme Gradient Boosting"
   ]
  },
  {
   "cell_type": "code",
   "execution_count": null,
   "metadata": {},
   "outputs": [],
   "source": [
    "# Build model\n",
    "xgb_model = make_pipeline(\n",
    "    OneHotEncoder(),\n",
    "    XGBRegressor()\n",
    ")\n",
    "\n",
    "# Fit model\n",
    "xgb_model.fit(X_train, y_train)\n",
    "\n",
    "# Predict for training data\n",
    "y_pred_xgb = xgb_model.predict(X_train)\n",
    "\n",
    "# Evaluate baseline predictions\n",
    "# Mean absolute error\n",
    "mae_xgb = mean_absolute_error(y_train, y_pred_xgb)\n",
    "print(\"Training mean absolute error (Extreme Gradient)\", mae_xgb)\n",
    "\n",
    "# Mean squared error\n",
    "mse_xgb = mean_squared_error(y_train, y_pred_xgb)\n",
    "print(\"Training mean squared error (Extreme Gradient)\", mse_xgb)\n",
    "\n",
    "# Root mean squared error\n",
    "rmse_xgb = np.sqrt(mean_squared_error(y_train, y_pred_xgb))\n",
    "print(\"Training root mean squared error (Extreme Gradient)\", rmse_xgb)"
   ]
  },
  {
   "cell_type": "markdown",
   "metadata": {},
   "source": [
    "### Decision tree"
   ]
  },
  {
   "cell_type": "code",
   "execution_count": null,
   "metadata": {},
   "outputs": [],
   "source": [
    "# Build model\n",
    "tree_model = make_pipeline(\n",
    "    OrdinalEncoder(),\n",
    "    DecisionTreeRegressor(random_state=42)\n",
    ")\n",
    "\n",
    "# Fit model\n",
    "tree_model.fit(X_train, y_train)\n",
    "\n",
    "# Predict for training data\n",
    "y_pred_tree = tree_model.predict(X_train)\n",
    "\n",
    "# Evaluate baseline predictions\n",
    "# Mean absolute error\n",
    "mae_tree = mean_absolute_error(y_train, y_pred_tree)\n",
    "print(\"Training mean absolute error (Decision Tree)\", mae_tree)\n",
    "\n",
    "# Mean squared error\n",
    "mse_tree = mean_squared_error(y_train, y_pred_tree)\n",
    "print(\"Training mean squared error (Decision Tree)\", mse_tree)\n",
    "\n",
    "# Root mean squared error\n",
    "rmse_tree = np.sqrt(mean_squared_error(y_train, y_pred_tree))\n",
    "print(\"Training root mean squared error (Decision Tree)\", rmse_tree)"
   ]
  },
  {
   "cell_type": "code",
   "execution_count": null,
   "metadata": {},
   "outputs": [],
   "source": [
    "print(tree_model.named_steps[\"decisiontreeregressor\"].get_depth())"
   ]
  },
  {
   "cell_type": "markdown",
   "metadata": {},
   "source": [
    "# Evaluate"
   ]
  },
  {
   "cell_type": "code",
   "execution_count": null,
   "metadata": {},
   "outputs": [],
   "source": []
  },
  {
   "cell_type": "markdown",
   "metadata": {},
   "source": [
    "# Communicate"
   ]
  },
  {
   "cell_type": "code",
   "execution_count": null,
   "metadata": {},
   "outputs": [],
   "source": []
  }
 ],
 "metadata": {
  "kernelspec": {
   "display_name": "predicting_height",
   "language": "python",
   "name": "python3"
  },
  "language_info": {
   "codemirror_mode": {
    "name": "ipython",
    "version": 3
   },
   "file_extension": ".py",
   "mimetype": "text/x-python",
   "name": "python",
   "nbconvert_exporter": "python",
   "pygments_lexer": "ipython3",
   "version": "3.11.5"
  }
 },
 "nbformat": 4,
 "nbformat_minor": 2
}
