{
  "cells": [
    {
      "cell_type": "markdown",
      "metadata": {
        "id": "jU8cHo-ohxhy"
      },
      "source": [
        "# Project setup"
      ]
    },
    {
      "cell_type": "code",
      "source": [
        "!pip install h2o -q -U"
      ],
      "metadata": {
        "id": "irRkswDBhnJB",
        "outputId": "fb43db4f-b584-4150-9858-9030496323f4",
        "colab": {
          "base_uri": "https://localhost:8080/"
        }
      },
      "execution_count": 3,
      "outputs": [
        {
          "output_type": "stream",
          "name": "stdout",
          "text": [
            "\u001b[2K     \u001b[90m━━━━━━━━━━━━━━━━━━━━━━━━━━━━━━━━━━━━━━━━\u001b[0m \u001b[32m265.8/265.8 MB\u001b[0m \u001b[31m4.5 MB/s\u001b[0m eta \u001b[36m0:00:00\u001b[0m\n",
            "\u001b[?25h  Preparing metadata (setup.py) ... \u001b[?25l\u001b[?25hdone\n",
            "  Building wheel for h2o (setup.py) ... \u001b[?25l\u001b[?25hdone\n"
          ]
        }
      ]
    },
    {
      "cell_type": "code",
      "execution_count": 4,
      "metadata": {
        "vscode": {
          "languageId": "plaintext"
        },
        "id": "0yWQnrywhxh0"
      },
      "outputs": [],
      "source": [
        "# Import libraries\n",
        "import sys\n",
        "import pandas as pd\n",
        "import numpy as np\n",
        "import matplotlib\n",
        "import matplotlib.pyplot as plt\n",
        "import h2o\n",
        "from h2o.automl import H2OAutoML"
      ]
    },
    {
      "cell_type": "code",
      "source": [
        "# Print version numbers of the libraries as well as the environment\n",
        "print(f\"System platform {sys.platform}\")\n",
        "print(f\"Python version {sys.version}\")\n",
        "print(\"-------------------------------\")\n",
        "print(f\"Pandas version {pd.__version__}\")\n",
        "print(f\"Numpy version {np.__version__}\")\n",
        "print(f\"Matplotlib version {matplotlib.__version__}\")\n",
        "print(f\"h2o version {h2o.__version__}\")"
      ],
      "metadata": {
        "id": "aJlt38jfjcuH",
        "outputId": "b9aa6b77-ad50-48b8-fb93-2b07f1bc33c3",
        "colab": {
          "base_uri": "https://localhost:8080/"
        }
      },
      "execution_count": 6,
      "outputs": [
        {
          "output_type": "stream",
          "name": "stdout",
          "text": [
            "System platform linux\n",
            "Python version 3.11.11 (main, Dec  4 2024, 08:55:07) [GCC 11.4.0]\n",
            "-------------------------------\n",
            "Pandas version 2.2.2\n",
            "Numpy version 1.26.4\n",
            "Matplotlib version 3.10.0\n",
            "h2o version 3.46.0.6\n"
          ]
        }
      ]
    }
  ],
  "metadata": {
    "language_info": {
      "name": "python"
    },
    "colab": {
      "provenance": []
    },
    "kernelspec": {
      "name": "python3",
      "display_name": "Python 3"
    }
  },
  "nbformat": 4,
  "nbformat_minor": 0
}