{
  "cells": [
    {
      "cell_type": "markdown",
      "metadata": {
        "id": "jU8cHo-ohxhy"
      },
      "source": [
        "# Project setup"
      ]
    },
    {
      "cell_type": "code",
      "execution_count": null,
      "metadata": {
        "vscode": {
          "languageId": "plaintext"
        },
        "id": "0yWQnrywhxh0"
      },
      "outputs": [],
      "source": [
        "# Import libraries\n",
        "import sys\n",
        "import pandas as pd\n",
        "import numpy as np\n",
        "import matplotlib.pyplot as plt\n",
        "import h2o\n",
        "from h2o.automl import *"
      ]
    },
    {
      "cell_type": "code",
      "source": [
        "# Print version numbers of the libraries as well as the environment\n",
        "print(f\"System platform {sys.platform}\")\n",
        "print(f\"System version {sys.version}\")\n",
        "print(\"-------------------------------\")\n",
        "print(f\"Pandas version {pd.__version__}\")\n",
        "print(f\"Numpy version {np.__version__}\")\n",
        "print(f\"Matplotlib version {plt.__version__}\")\n",
        "print(f\"h2o version {h20.__version__}\")"
      ],
      "metadata": {
        "id": "aJlt38jfjcuH"
      },
      "execution_count": null,
      "outputs": []
    }
  ],
  "metadata": {
    "language_info": {
      "name": "python"
    },
    "colab": {
      "provenance": []
    }
  },
  "nbformat": 4,
  "nbformat_minor": 0
}